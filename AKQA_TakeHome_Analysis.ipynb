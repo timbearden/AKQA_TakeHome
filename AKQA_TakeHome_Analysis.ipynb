{
 "cells": [
  {
   "cell_type": "markdown",
   "metadata": {},
   "source": [
    "# AKQA Take Home Test Answers"
   ]
  },
  {
   "cell_type": "markdown",
   "metadata": {},
   "source": [
    "Tim Bearden\n",
    "\n",
    "February 17, 2017"
   ]
  },
  {
   "cell_type": "markdown",
   "metadata": {},
   "source": [
    "## Introduction/Pre-processing"
   ]
  },
  {
   "cell_type": "markdown",
   "metadata": {},
   "source": [
    "Loading the relevant libraries:"
   ]
  },
  {
   "cell_type": "code",
   "execution_count": 1,
   "metadata": {
    "collapsed": false
   },
   "outputs": [],
   "source": [
    "import pandas as pd\n",
    "import numpy as np\n",
    "import matplotlib.pyplot as plt\n",
    "%matplotlib inline"
   ]
  },
  {
   "cell_type": "markdown",
   "metadata": {},
   "source": [
    "Reading in the Data:"
   ]
  },
  {
   "cell_type": "code",
   "execution_count": 2,
   "metadata": {
    "collapsed": false
   },
   "outputs": [],
   "source": [
    "df = pd.read_excel('AKQA_Dataset_Test.xlsx', sheetname='Twin Cities')\n",
    "zips = pd.read_excel('AKQA_Dataset_Test.xlsx', sheetname='Zips')"
   ]
  },
  {
   "cell_type": "markdown",
   "metadata": {},
   "source": [
    "Some basic examination of the data:"
   ]
  },
  {
   "cell_type": "code",
   "execution_count": 3,
   "metadata": {
    "collapsed": false
   },
   "outputs": [
    {
     "data": {
      "text/plain": [
       "(1111, 21)"
      ]
     },
     "execution_count": 3,
     "metadata": {},
     "output_type": "execute_result"
    }
   ],
   "source": [
    "df.shape"
   ]
  },
  {
   "cell_type": "code",
   "execution_count": 4,
   "metadata": {
    "collapsed": false
   },
   "outputs": [
    {
     "data": {
      "text/plain": [
       "Index([u'ID', u'ADDRESS', u'CITY', u'STATE', u'ZIP', u'ListPrice', u'BEDS',\n",
       "       u'BATHS', u'LOCATION', u'SQFT', u'LotSize', u'YearBuilt',\n",
       "       u'ParkingSpots', u'HasGarage', u'DOM', u'LastSaleDate', u'SoldPrev',\n",
       "       u'Realty', u'LATITUDE', u'LONGITUDE', u'ShortSale'],\n",
       "      dtype='object')"
      ]
     },
     "execution_count": 4,
     "metadata": {},
     "output_type": "execute_result"
    }
   ],
   "source": [
    "df.columns"
   ]
  },
  {
   "cell_type": "code",
   "execution_count": 5,
   "metadata": {
    "collapsed": false
   },
   "outputs": [
    {
     "data": {
      "text/html": [
       "<div>\n",
       "<table border=\"1\" class=\"dataframe\">\n",
       "  <thead>\n",
       "    <tr style=\"text-align: right;\">\n",
       "      <th></th>\n",
       "      <th>ID</th>\n",
       "      <th>ADDRESS</th>\n",
       "      <th>CITY</th>\n",
       "      <th>STATE</th>\n",
       "      <th>ZIP</th>\n",
       "      <th>ListPrice</th>\n",
       "      <th>BEDS</th>\n",
       "      <th>BATHS</th>\n",
       "      <th>LOCATION</th>\n",
       "      <th>SQFT</th>\n",
       "      <th>...</th>\n",
       "      <th>YearBuilt</th>\n",
       "      <th>ParkingSpots</th>\n",
       "      <th>HasGarage</th>\n",
       "      <th>DOM</th>\n",
       "      <th>LastSaleDate</th>\n",
       "      <th>SoldPrev</th>\n",
       "      <th>Realty</th>\n",
       "      <th>LATITUDE</th>\n",
       "      <th>LONGITUDE</th>\n",
       "      <th>ShortSale</th>\n",
       "    </tr>\n",
       "  </thead>\n",
       "  <tbody>\n",
       "    <tr>\n",
       "      <th>0</th>\n",
       "      <td>4416206</td>\n",
       "      <td>1000 Larpenteur Ave W</td>\n",
       "      <td>St. Paul</td>\n",
       "      <td>MN</td>\n",
       "      <td>55113</td>\n",
       "      <td>214000</td>\n",
       "      <td>3</td>\n",
       "      <td>2.00</td>\n",
       "      <td>Como</td>\n",
       "      <td>1954</td>\n",
       "      <td>...</td>\n",
       "      <td>1918</td>\n",
       "      <td>2</td>\n",
       "      <td>Garage</td>\n",
       "      <td>117</td>\n",
       "      <td>2008-10-06</td>\n",
       "      <td>Y</td>\n",
       "      <td>Edina Realty, Inc.</td>\n",
       "      <td>44.991634</td>\n",
       "      <td>-93.142616</td>\n",
       "      <td>N</td>\n",
       "    </tr>\n",
       "    <tr>\n",
       "      <th>1</th>\n",
       "      <td>4423768</td>\n",
       "      <td>1004 Charles Ave</td>\n",
       "      <td>St. Paul</td>\n",
       "      <td>MN</td>\n",
       "      <td>55104</td>\n",
       "      <td>134900</td>\n",
       "      <td>3</td>\n",
       "      <td>1.00</td>\n",
       "      <td>Thomas-Dale (Frogtown)</td>\n",
       "      <td>1028</td>\n",
       "      <td>...</td>\n",
       "      <td>1911</td>\n",
       "      <td>1</td>\n",
       "      <td>Garage</td>\n",
       "      <td>93</td>\n",
       "      <td>2010-11-08</td>\n",
       "      <td>Y</td>\n",
       "      <td>Fish MLS Realty</td>\n",
       "      <td>44.957291</td>\n",
       "      <td>-93.142624</td>\n",
       "      <td>N</td>\n",
       "    </tr>\n",
       "    <tr>\n",
       "      <th>2</th>\n",
       "      <td>4427963</td>\n",
       "      <td>1004 Euclid St</td>\n",
       "      <td>St. Paul</td>\n",
       "      <td>MN</td>\n",
       "      <td>55106</td>\n",
       "      <td>129722</td>\n",
       "      <td>4</td>\n",
       "      <td>1.00</td>\n",
       "      <td>Dayton's Bluff</td>\n",
       "      <td>1420</td>\n",
       "      <td>...</td>\n",
       "      <td>1900</td>\n",
       "      <td>0</td>\n",
       "      <td>No Garage</td>\n",
       "      <td>77</td>\n",
       "      <td>NaT</td>\n",
       "      <td>N</td>\n",
       "      <td>Coldwell Banker Burnet</td>\n",
       "      <td>44.954708</td>\n",
       "      <td>-93.057976</td>\n",
       "      <td>N</td>\n",
       "    </tr>\n",
       "    <tr>\n",
       "      <th>3</th>\n",
       "      <td>4432178</td>\n",
       "      <td>1005 Saint Anthony Ave</td>\n",
       "      <td>St. Paul</td>\n",
       "      <td>MN</td>\n",
       "      <td>55104</td>\n",
       "      <td>134900</td>\n",
       "      <td>2</td>\n",
       "      <td>1.75</td>\n",
       "      <td>Summit-University</td>\n",
       "      <td>904</td>\n",
       "      <td>...</td>\n",
       "      <td>1928</td>\n",
       "      <td>3</td>\n",
       "      <td>Garage</td>\n",
       "      <td>57</td>\n",
       "      <td>NaT</td>\n",
       "      <td>N</td>\n",
       "      <td>Real Estate Masters, Ltd.</td>\n",
       "      <td>44.952404</td>\n",
       "      <td>-93.142693</td>\n",
       "      <td>N</td>\n",
       "    </tr>\n",
       "    <tr>\n",
       "      <th>4</th>\n",
       "      <td>4440070</td>\n",
       "      <td>100X Chatsworth Pl</td>\n",
       "      <td>Shoreview</td>\n",
       "      <td>MN</td>\n",
       "      <td>55126</td>\n",
       "      <td>444900</td>\n",
       "      <td>4</td>\n",
       "      <td>2.50</td>\n",
       "      <td>Shoreview</td>\n",
       "      <td>2014</td>\n",
       "      <td>...</td>\n",
       "      <td>2014</td>\n",
       "      <td>3</td>\n",
       "      <td>Garage</td>\n",
       "      <td>8</td>\n",
       "      <td>NaT</td>\n",
       "      <td>N</td>\n",
       "      <td>Coldwell Banker Burnet</td>\n",
       "      <td>44.944391</td>\n",
       "      <td>-93.141348</td>\n",
       "      <td>N</td>\n",
       "    </tr>\n",
       "  </tbody>\n",
       "</table>\n",
       "<p>5 rows × 21 columns</p>\n",
       "</div>"
      ],
      "text/plain": [
       "        ID                 ADDRESS       CITY STATE    ZIP  ListPrice  BEDS  \\\n",
       "0  4416206   1000 Larpenteur Ave W   St. Paul    MN  55113     214000     3   \n",
       "1  4423768        1004 Charles Ave   St. Paul    MN  55104     134900     3   \n",
       "2  4427963          1004 Euclid St   St. Paul    MN  55106     129722     4   \n",
       "3  4432178  1005 Saint Anthony Ave   St. Paul    MN  55104     134900     2   \n",
       "4  4440070      100X Chatsworth Pl  Shoreview    MN  55126     444900     4   \n",
       "\n",
       "   BATHS                LOCATION  SQFT    ...      YearBuilt  ParkingSpots  \\\n",
       "0   2.00                    Como  1954    ...           1918             2   \n",
       "1   1.00  Thomas-Dale (Frogtown)  1028    ...           1911             1   \n",
       "2   1.00          Dayton's Bluff  1420    ...           1900             0   \n",
       "3   1.75       Summit-University   904    ...           1928             3   \n",
       "4   2.50               Shoreview  2014    ...           2014             3   \n",
       "\n",
       "   HasGarage  DOM  LastSaleDate SoldPrev                     Realty  \\\n",
       "0     Garage  117    2008-10-06        Y         Edina Realty, Inc.   \n",
       "1     Garage   93    2010-11-08        Y            Fish MLS Realty   \n",
       "2  No Garage   77           NaT        N     Coldwell Banker Burnet   \n",
       "3     Garage   57           NaT        N  Real Estate Masters, Ltd.   \n",
       "4     Garage    8           NaT        N     Coldwell Banker Burnet   \n",
       "\n",
       "    LATITUDE  LONGITUDE  ShortSale  \n",
       "0  44.991634 -93.142616          N  \n",
       "1  44.957291 -93.142624          N  \n",
       "2  44.954708 -93.057976          N  \n",
       "3  44.952404 -93.142693          N  \n",
       "4  44.944391 -93.141348          N  \n",
       "\n",
       "[5 rows x 21 columns]"
      ]
     },
     "execution_count": 5,
     "metadata": {},
     "output_type": "execute_result"
    }
   ],
   "source": [
    "df.head()"
   ]
  },
  {
   "cell_type": "code",
   "execution_count": 6,
   "metadata": {
    "collapsed": false,
    "scrolled": true
   },
   "outputs": [
    {
     "data": {
      "text/html": [
       "<div>\n",
       "<table border=\"1\" class=\"dataframe\">\n",
       "  <thead>\n",
       "    <tr style=\"text-align: right;\">\n",
       "      <th></th>\n",
       "      <th>ZipCode</th>\n",
       "      <th>Population_2010_Census</th>\n",
       "    </tr>\n",
       "  </thead>\n",
       "  <tbody>\n",
       "    <tr>\n",
       "      <th>0</th>\n",
       "      <td>1001</td>\n",
       "      <td>16769</td>\n",
       "    </tr>\n",
       "    <tr>\n",
       "      <th>1</th>\n",
       "      <td>1002</td>\n",
       "      <td>29049</td>\n",
       "    </tr>\n",
       "    <tr>\n",
       "      <th>2</th>\n",
       "      <td>1003</td>\n",
       "      <td>10372</td>\n",
       "    </tr>\n",
       "    <tr>\n",
       "      <th>3</th>\n",
       "      <td>1005</td>\n",
       "      <td>5079</td>\n",
       "    </tr>\n",
       "    <tr>\n",
       "      <th>4</th>\n",
       "      <td>1007</td>\n",
       "      <td>14649</td>\n",
       "    </tr>\n",
       "  </tbody>\n",
       "</table>\n",
       "</div>"
      ],
      "text/plain": [
       "   ZipCode  Population_2010_Census\n",
       "0     1001                   16769\n",
       "1     1002                   29049\n",
       "2     1003                   10372\n",
       "3     1005                    5079\n",
       "4     1007                   14649"
      ]
     },
     "execution_count": 6,
     "metadata": {},
     "output_type": "execute_result"
    }
   ],
   "source": [
    "zips.head()"
   ]
  },
  {
   "cell_type": "markdown",
   "metadata": {},
   "source": [
    "After looking through, I decided to do several things to clean this data:\n",
    "- Added an `Age` column, based on advice in the documentation\n",
    "- Dropped the `LastSaleDate` column, based on advice in the documentation\n",
    "- Dropped the `LOCATION`, `LONGITUDE`, and `LATITUDE` variables\n",
    "- Changed binary classfiers from unicode strings into numeric values (to make them easier to deal with later)\n",
    "- Dropped the null values\n",
    "\n",
    "I dropped the three location variables because they would require too much processing (i.e. binning lat/lon in different ways, working with any text errors in the `LOCATION` field, etc.) to be of use, and I assumed that most of the signal contained in those variables would likely be found in the `ZIP` variable anyways. With more time, I would probably do more to work with these variables though.\n",
    "\n",
    "I dropped the missing values as opposed to filling them in due to time constraints. Since missing values appeared in mostly in one column (`LotSize`), and there weren't too many of them (~6% of total observations), it didn't seem like too much of a sacrifice to get rid of them.\n",
    "\n",
    "If I had more time, I would have looked into filling `LotSize` through some method like using the median lot size of that property's Zip Code, or maybe using a regression output that predicts lot size based on square footage. Using a straight median fill seems a little too naive, as lot sizes are highly skewed and vary pretty widely by region."
   ]
  },
  {
   "cell_type": "code",
   "execution_count": 7,
   "metadata": {
    "collapsed": true
   },
   "outputs": [],
   "source": [
    "from work import cleaning_data #A function to clean the data in the manner described\n",
    "df = cleaning_data(df, dropna = True)"
   ]
  },
  {
   "cell_type": "code",
   "execution_count": 8,
   "metadata": {
    "collapsed": false
   },
   "outputs": [
    {
     "data": {
      "text/html": [
       "<div>\n",
       "<table border=\"1\" class=\"dataframe\">\n",
       "  <thead>\n",
       "    <tr style=\"text-align: right;\">\n",
       "      <th></th>\n",
       "      <th>ID</th>\n",
       "      <th>ADDRESS</th>\n",
       "      <th>CITY</th>\n",
       "      <th>STATE</th>\n",
       "      <th>ZIP</th>\n",
       "      <th>ListPrice</th>\n",
       "      <th>BEDS</th>\n",
       "      <th>BATHS</th>\n",
       "      <th>SQFT</th>\n",
       "      <th>LotSize</th>\n",
       "      <th>YearBuilt</th>\n",
       "      <th>ParkingSpots</th>\n",
       "      <th>HasGarage</th>\n",
       "      <th>DOM</th>\n",
       "      <th>SoldPrev</th>\n",
       "      <th>Realty</th>\n",
       "      <th>ShortSale</th>\n",
       "      <th>Age</th>\n",
       "    </tr>\n",
       "  </thead>\n",
       "  <tbody>\n",
       "    <tr>\n",
       "      <th>0</th>\n",
       "      <td>4416206</td>\n",
       "      <td>1000 Larpenteur Ave W</td>\n",
       "      <td>St. Paul</td>\n",
       "      <td>MN</td>\n",
       "      <td>55113</td>\n",
       "      <td>214000</td>\n",
       "      <td>3</td>\n",
       "      <td>2.00</td>\n",
       "      <td>1954</td>\n",
       "      <td>6969.0</td>\n",
       "      <td>1918</td>\n",
       "      <td>2</td>\n",
       "      <td>1</td>\n",
       "      <td>117</td>\n",
       "      <td>1</td>\n",
       "      <td>Edina Realty, Inc.</td>\n",
       "      <td>0</td>\n",
       "      <td>96</td>\n",
       "    </tr>\n",
       "    <tr>\n",
       "      <th>1</th>\n",
       "      <td>4423768</td>\n",
       "      <td>1004 Charles Ave</td>\n",
       "      <td>St. Paul</td>\n",
       "      <td>MN</td>\n",
       "      <td>55104</td>\n",
       "      <td>134900</td>\n",
       "      <td>3</td>\n",
       "      <td>1.00</td>\n",
       "      <td>1028</td>\n",
       "      <td>4356.0</td>\n",
       "      <td>1911</td>\n",
       "      <td>1</td>\n",
       "      <td>1</td>\n",
       "      <td>93</td>\n",
       "      <td>1</td>\n",
       "      <td>Fish MLS Realty</td>\n",
       "      <td>0</td>\n",
       "      <td>103</td>\n",
       "    </tr>\n",
       "    <tr>\n",
       "      <th>2</th>\n",
       "      <td>4427963</td>\n",
       "      <td>1004 Euclid St</td>\n",
       "      <td>St. Paul</td>\n",
       "      <td>MN</td>\n",
       "      <td>55106</td>\n",
       "      <td>129722</td>\n",
       "      <td>4</td>\n",
       "      <td>1.00</td>\n",
       "      <td>1420</td>\n",
       "      <td>5227.0</td>\n",
       "      <td>1900</td>\n",
       "      <td>0</td>\n",
       "      <td>0</td>\n",
       "      <td>77</td>\n",
       "      <td>0</td>\n",
       "      <td>Coldwell Banker Burnet</td>\n",
       "      <td>0</td>\n",
       "      <td>114</td>\n",
       "    </tr>\n",
       "    <tr>\n",
       "      <th>3</th>\n",
       "      <td>4432178</td>\n",
       "      <td>1005 Saint Anthony Ave</td>\n",
       "      <td>St. Paul</td>\n",
       "      <td>MN</td>\n",
       "      <td>55104</td>\n",
       "      <td>134900</td>\n",
       "      <td>2</td>\n",
       "      <td>1.75</td>\n",
       "      <td>904</td>\n",
       "      <td>8712.0</td>\n",
       "      <td>1928</td>\n",
       "      <td>3</td>\n",
       "      <td>1</td>\n",
       "      <td>57</td>\n",
       "      <td>0</td>\n",
       "      <td>Real Estate Masters, Ltd.</td>\n",
       "      <td>0</td>\n",
       "      <td>86</td>\n",
       "    </tr>\n",
       "    <tr>\n",
       "      <th>4</th>\n",
       "      <td>4440070</td>\n",
       "      <td>100X Chatsworth Pl</td>\n",
       "      <td>Shoreview</td>\n",
       "      <td>MN</td>\n",
       "      <td>55126</td>\n",
       "      <td>444900</td>\n",
       "      <td>4</td>\n",
       "      <td>2.50</td>\n",
       "      <td>2014</td>\n",
       "      <td>12632.0</td>\n",
       "      <td>2014</td>\n",
       "      <td>3</td>\n",
       "      <td>1</td>\n",
       "      <td>8</td>\n",
       "      <td>0</td>\n",
       "      <td>Coldwell Banker Burnet</td>\n",
       "      <td>0</td>\n",
       "      <td>0</td>\n",
       "    </tr>\n",
       "  </tbody>\n",
       "</table>\n",
       "</div>"
      ],
      "text/plain": [
       "        ID                 ADDRESS       CITY STATE    ZIP  ListPrice  BEDS  \\\n",
       "0  4416206   1000 Larpenteur Ave W   St. Paul    MN  55113     214000     3   \n",
       "1  4423768        1004 Charles Ave   St. Paul    MN  55104     134900     3   \n",
       "2  4427963          1004 Euclid St   St. Paul    MN  55106     129722     4   \n",
       "3  4432178  1005 Saint Anthony Ave   St. Paul    MN  55104     134900     2   \n",
       "4  4440070      100X Chatsworth Pl  Shoreview    MN  55126     444900     4   \n",
       "\n",
       "   BATHS  SQFT  LotSize  YearBuilt  ParkingSpots  HasGarage  DOM  SoldPrev  \\\n",
       "0   2.00  1954   6969.0       1918             2          1  117         1   \n",
       "1   1.00  1028   4356.0       1911             1          1   93         1   \n",
       "2   1.00  1420   5227.0       1900             0          0   77         0   \n",
       "3   1.75   904   8712.0       1928             3          1   57         0   \n",
       "4   2.50  2014  12632.0       2014             3          1    8         0   \n",
       "\n",
       "                      Realty  ShortSale  Age  \n",
       "0         Edina Realty, Inc.          0   96  \n",
       "1            Fish MLS Realty          0  103  \n",
       "2     Coldwell Banker Burnet          0  114  \n",
       "3  Real Estate Masters, Ltd.          0   86  \n",
       "4     Coldwell Banker Burnet          0    0  "
      ]
     },
     "execution_count": 8,
     "metadata": {},
     "output_type": "execute_result"
    }
   ],
   "source": [
    "df.head()"
   ]
  },
  {
   "cell_type": "code",
   "execution_count": 9,
   "metadata": {
    "collapsed": false
   },
   "outputs": [
    {
     "data": {
      "text/plain": [
       "(1046, 18)"
      ]
     },
     "execution_count": 9,
     "metadata": {},
     "output_type": "execute_result"
    }
   ],
   "source": [
    "df.shape"
   ]
  },
  {
   "cell_type": "code",
   "execution_count": 10,
   "metadata": {
    "collapsed": false
   },
   "outputs": [
    {
     "data": {
      "text/plain": [
       "Index([          u'ID',      u'ADDRESS',         u'CITY',        u'STATE',\n",
       "                u'ZIP',    u'ListPrice',         u'BEDS',        u'BATHS',\n",
       "               u'SQFT',      u'LotSize',    u'YearBuilt', u'ParkingSpots',\n",
       "          u'HasGarage',          u'DOM',     u'SoldPrev',       u'Realty',\n",
       "          u'ShortSale',          u'Age'],\n",
       "      dtype='object')"
      ]
     },
     "execution_count": 10,
     "metadata": {},
     "output_type": "execute_result"
    }
   ],
   "source": [
    "df.columns"
   ]
  },
  {
   "cell_type": "markdown",
   "metadata": {},
   "source": [
    "## Question 1\n",
    "\n",
    "##### You are home developer looking to partner with the top real estate companies to acquire and then sell a large volume of properties in the Twin Cities area (the more the better). You do not have the resources to manage too many real estate partners and a strict timeline to negotiate the deals. \n",
    "##### What realty companies would you pick as your partners? Why would you make that choice? Demonstrate this through analysis, visual display of your results, and description of your methodology of selection."
   ]
  },
  {
   "cell_type": "markdown",
   "metadata": {},
   "source": [
    "As we can see, there are a lot of different Realty companies. "
   ]
  },
  {
   "cell_type": "code",
   "execution_count": 11,
   "metadata": {
    "collapsed": false
   },
   "outputs": [
    {
     "data": {
      "text/plain": [
       "204"
      ]
     },
     "execution_count": 11,
     "metadata": {},
     "output_type": "execute_result"
    }
   ],
   "source": [
    "len(df.Realty.unique())"
   ]
  },
  {
   "cell_type": "markdown",
   "metadata": {},
   "source": [
    "Since we want to sell a large volume of properties, let's look at just the top 20 Realty companies as measured by the number of listings available:"
   ]
  },
  {
   "cell_type": "code",
   "execution_count": 12,
   "metadata": {
    "collapsed": false
   },
   "outputs": [
    {
     "data": {
      "text/plain": [
       "Realty\n",
       "RE/MAX Results                                      178\n",
       "Coldwell Banker Burnet                              156\n",
       "Edina Realty, Inc.                                  145\n",
       "Keller Williams Premier Realty                       27\n",
       "RE/MAX Specialists                                   24\n",
       "RE/MAX Advantage Plus                                24\n",
       "Keller Williams Integrity RE                         22\n",
       "Keller Williams Integrity                            22\n",
       "The Realty House                                     14\n",
       "Keller Williams Classic Realty NW                    13\n",
       "Counselor Realty, Inc                                13\n",
       "Counselor Realty, Inc.                               11\n",
       "Lakes Sotheby's International                         9\n",
       "Better Homes and Gardens Real Estate-All Seasons      9\n",
       "Re/Max Prodigy                                        8\n",
       "Talbot Realty                                         8\n",
       "DeLisle Company, Inc.                                 7\n",
       "The Ewing Group, LLC                                  7\n",
       "Realty Group, Inc.                                    6\n",
       "Realty Direct REO, LLC                                6\n",
       "Name: ID, dtype: int64"
      ]
     },
     "execution_count": 12,
     "metadata": {},
     "output_type": "execute_result"
    }
   ],
   "source": [
    "top_cos = df.groupby('Realty').count().ID.sort_values(ascending=False)[:20]\n",
    "top_cos"
   ]
  },
  {
   "cell_type": "markdown",
   "metadata": {},
   "source": [
    "There appears to be a pretty quick drop off in terms of available listings. Since we probably wouldn't want to deal with any Real Estate company that has very few listings anyways, it is probably safe to limit our search to companies with at least 10 listings. Since several of these companies appear to have the same parent company, I will assume that companies with different labels are different companies, regardless of whether they are owned by the same parent corp (e.g. I treat RE/MAX Specialists as different from RE/MAX Advantage Plus). "
   ]
  },
  {
   "cell_type": "code",
   "execution_count": 13,
   "metadata": {
    "collapsed": true
   },
   "outputs": [],
   "source": [
    "top_cos = top_cos[top_cos >= 10]\n",
    "top_df = df[df['Realty'].isin(top_cos.index)]"
   ]
  },
  {
   "cell_type": "markdown",
   "metadata": {},
   "source": [
    "Now, we'll want to consider a few things as we pick a Real Estate company to work with:\n",
    "- Average listing price of the company (we want large profit margins)\n",
    "- Average number of days on the market (we want to sell quickly)\n",
    "- What percent of properties with each company has sold previously? (we want houses to sell well)\n",
    "- What percent of properties with each company are short sales? (we don't want the complications of buying short)"
   ]
  },
  {
   "cell_type": "code",
   "execution_count": 14,
   "metadata": {
    "collapsed": false
   },
   "outputs": [
    {
     "data": {
      "text/plain": [
       "<matplotlib.axes._subplots.AxesSubplot at 0x112b46410>"
      ]
     },
     "execution_count": 14,
     "metadata": {},
     "output_type": "execute_result"
    },
    {
     "data": {
      "image/png": "[encoded data removed]",
      "text/plain": [
       "<matplotlib.figure.Figure at 0x111a2d9d0>"
      ]
     },
     "metadata": {},
     "output_type": "display_data"
    }
   ],
   "source": [
    "top_df.boxplot('ListPrice', by = 'Realty', fontsize = 6, rot = 60)"
   ]
  },
  {
   "cell_type": "code",
   "execution_count": 15,
   "metadata": {
    "collapsed": false
   },
   "outputs": [
    {
     "data": {
      "text/plain": [
       "<matplotlib.axes._subplots.AxesSubplot at 0x112bb0f10>"
      ]
     },
     "execution_count": 15,
     "metadata": {},
     "output_type": "execute_result"
    },
    {
     "data": {
      "image/png": "[encoded data removed]",
      "text/plain": [
       "<matplotlib.figure.Figure at 0x112b9e550>"
      ]
     },
     "metadata": {},
     "output_type": "display_data"
    }
   ],
   "source": [
    "top_df.boxplot('DOM', by = 'Realty', fontsize = 6, rot = 60)"
   ]
  },
  {
   "cell_type": "code",
   "execution_count": 16,
   "metadata": {
    "collapsed": false
   },
   "outputs": [
    {
     "data": {
      "text/html": [
       "<div>\n",
       "<table border=\"1\" class=\"dataframe\">\n",
       "  <thead>\n",
       "    <tr style=\"text-align: right;\">\n",
       "      <th></th>\n",
       "      <th>SoldPrev</th>\n",
       "      <th>ShortSale</th>\n",
       "    </tr>\n",
       "    <tr>\n",
       "      <th>Realty</th>\n",
       "      <th></th>\n",
       "      <th></th>\n",
       "    </tr>\n",
       "  </thead>\n",
       "  <tbody>\n",
       "    <tr>\n",
       "      <th>Coldwell Banker Burnet</th>\n",
       "      <td>0.301282</td>\n",
       "      <td>0.044872</td>\n",
       "    </tr>\n",
       "    <tr>\n",
       "      <th>Counselor Realty, Inc</th>\n",
       "      <td>0.307692</td>\n",
       "      <td>0.076923</td>\n",
       "    </tr>\n",
       "    <tr>\n",
       "      <th>Counselor Realty, Inc.</th>\n",
       "      <td>0.181818</td>\n",
       "      <td>0.000000</td>\n",
       "    </tr>\n",
       "    <tr>\n",
       "      <th>Edina Realty, Inc.</th>\n",
       "      <td>0.241379</td>\n",
       "      <td>0.068966</td>\n",
       "    </tr>\n",
       "    <tr>\n",
       "      <th>Keller Williams Classic Realty NW</th>\n",
       "      <td>0.615385</td>\n",
       "      <td>0.384615</td>\n",
       "    </tr>\n",
       "    <tr>\n",
       "      <th>Keller Williams Integrity</th>\n",
       "      <td>0.363636</td>\n",
       "      <td>0.045455</td>\n",
       "    </tr>\n",
       "    <tr>\n",
       "      <th>Keller Williams Integrity RE</th>\n",
       "      <td>0.590909</td>\n",
       "      <td>0.045455</td>\n",
       "    </tr>\n",
       "    <tr>\n",
       "      <th>Keller Williams Premier Realty</th>\n",
       "      <td>0.222222</td>\n",
       "      <td>0.037037</td>\n",
       "    </tr>\n",
       "    <tr>\n",
       "      <th>RE/MAX Advantage Plus</th>\n",
       "      <td>0.250000</td>\n",
       "      <td>0.000000</td>\n",
       "    </tr>\n",
       "    <tr>\n",
       "      <th>RE/MAX Results</th>\n",
       "      <td>0.398876</td>\n",
       "      <td>0.056180</td>\n",
       "    </tr>\n",
       "    <tr>\n",
       "      <th>RE/MAX Specialists</th>\n",
       "      <td>0.208333</td>\n",
       "      <td>0.041667</td>\n",
       "    </tr>\n",
       "    <tr>\n",
       "      <th>The Realty House</th>\n",
       "      <td>0.000000</td>\n",
       "      <td>0.000000</td>\n",
       "    </tr>\n",
       "  </tbody>\n",
       "</table>\n",
       "</div>"
      ],
      "text/plain": [
       "                                   SoldPrev  ShortSale\n",
       "Realty                                                \n",
       "Coldwell Banker Burnet             0.301282   0.044872\n",
       "Counselor Realty, Inc              0.307692   0.076923\n",
       "Counselor Realty, Inc.             0.181818   0.000000\n",
       "Edina Realty, Inc.                 0.241379   0.068966\n",
       "Keller Williams Classic Realty NW  0.615385   0.384615\n",
       "Keller Williams Integrity          0.363636   0.045455\n",
       "Keller Williams Integrity RE       0.590909   0.045455\n",
       "Keller Williams Premier Realty     0.222222   0.037037\n",
       "RE/MAX Advantage Plus              0.250000   0.000000\n",
       "RE/MAX Results                     0.398876   0.056180\n",
       "RE/MAX Specialists                 0.208333   0.041667\n",
       "The Realty House                   0.000000   0.000000"
      ]
     },
     "execution_count": 16,
     "metadata": {},
     "output_type": "execute_result"
    }
   ],
   "source": [
    "top_df.groupby('Realty').mean()[['SoldPrev', 'ShortSale']]"
   ]
  },
  {
   "cell_type": "markdown",
   "metadata": {
    "collapsed": true
   },
   "source": [
    "**Coldwell Banker Burnet**, **Edina Realty**, and **RE/MAX Results** all have many listings, each with several high value listings. Examining the `DOM` boxplots (days on market) doesn't show any drastic differences between the companies, and the percentages of listings that had been sold previously and that were short sales don't seem outstanding in any negative way. Thus, I would recommend that we partner with those three companies."
   ]
  },
  {
   "cell_type": "markdown",
   "metadata": {},
   "source": [
    "## Question 2\n",
    "\n",
    "##### All things being equal what would you predict as the listing price for a 2111 square foot house if that was the only information you had on a house in this area? How did you arrive at that estimate? Please explain."
   ]
  },
  {
   "cell_type": "markdown",
   "metadata": {},
   "source": [
    "For this problem, I will use a linear regression model to estimate the value of a house:"
   ]
  },
  {
   "cell_type": "code",
   "execution_count": 17,
   "metadata": {
    "collapsed": true
   },
   "outputs": [],
   "source": [
    "import statsmodels.api as sm"
   ]
  },
  {
   "cell_type": "markdown",
   "metadata": {},
   "source": [
    "Let's start off with a model that predicts list price solely on square footage. "
   ]
  },
  {
   "cell_type": "code",
   "execution_count": 18,
   "metadata": {
    "collapsed": true
   },
   "outputs": [],
   "source": [
    "y = df['ListPrice']\n",
    "X = df['SQFT']"
   ]
  },
  {
   "cell_type": "markdown",
   "metadata": {},
   "source": [
    "To see if they actually have a linear relationship:"
   ]
  },
  {
   "cell_type": "code",
   "execution_count": 19,
   "metadata": {
    "collapsed": false,
    "scrolled": true
   },
   "outputs": [
    {
     "data": {
      "text/plain": [
       "<matplotlib.collections.PathCollection at 0x1168203d0>"
      ]
     },
     "execution_count": 19,
     "metadata": {},
     "output_type": "execute_result"
    },
    {
     "data": {
      "image/png": "[encoded data removed]",
      "text/plain": [
       "<matplotlib.figure.Figure at 0x11678cad0>"
      ]
     },
     "metadata": {},
     "output_type": "display_data"
    }
   ],
   "source": [
    "plt.scatter(X, y)"
   ]
  },
  {
   "cell_type": "markdown",
   "metadata": {},
   "source": [
    "The variables don't quite look like they have a linear relationship, so let's look at what happens when we plot the logged variables:"
   ]
  },
  {
   "cell_type": "code",
   "execution_count": 20,
   "metadata": {
    "collapsed": false
   },
   "outputs": [
    {
     "data": {
      "text/plain": [
       "<matplotlib.collections.PathCollection at 0x116ace610>"
      ]
     },
     "execution_count": 20,
     "metadata": {},
     "output_type": "execute_result"
    },
    {
     "data": {
      "image/png": "[encoded data removed]",
      "text/plain": [
       "<matplotlib.figure.Figure at 0x1167caf10>"
      ]
     },
     "metadata": {},
     "output_type": "display_data"
    }
   ],
   "source": [
    "plt.scatter(np.log10(X), np.log10(y))"
   ]
  },
  {
   "cell_type": "markdown",
   "metadata": {},
   "source": [
    "That looks a little better. Let's try building a simple model and see how it does."
   ]
  },
  {
   "cell_type": "code",
   "execution_count": 21,
   "metadata": {
    "collapsed": false
   },
   "outputs": [],
   "source": [
    "y = np.log10(y)\n",
    "X = sm.add_constant(np.log10(X))\n",
    "model = sm.OLS(y, X)\n",
    "results = model.fit()"
   ]
  },
  {
   "cell_type": "code",
   "execution_count": 22,
   "metadata": {
    "collapsed": false,
    "scrolled": false
   },
   "outputs": [
    {
     "data": {
      "text/html": [
       "<table class=\"simpletable\">\n",
       "<caption>OLS Regression Results</caption>\n",
       "<tr>\n",
       "  <th>Dep. Variable:</th>        <td>ListPrice</td>    <th>  R-squared:         </th> <td>   0.551</td> \n",
       "</tr>\n",
       "<tr>\n",
       "  <th>Model:</th>                   <td>OLS</td>       <th>  Adj. R-squared:    </th> <td>   0.550</td> \n",
       "</tr>\n",
       "<tr>\n",
       "  <th>Method:</th>             <td>Least Squares</td>  <th>  F-statistic:       </th> <td>   1280.</td> \n",
       "</tr>\n",
       "<tr>\n",
       "  <th>Date:</th>             <td>Fri, 17 Feb 2017</td> <th>  Prob (F-statistic):</th> <td>1.32e-183</td>\n",
       "</tr>\n",
       "<tr>\n",
       "  <th>Time:</th>                 <td>09:39:37</td>     <th>  Log-Likelihood:    </th> <td>  94.322</td> \n",
       "</tr>\n",
       "<tr>\n",
       "  <th>No. Observations:</th>      <td>  1046</td>      <th>  AIC:               </th> <td>  -184.6</td> \n",
       "</tr>\n",
       "<tr>\n",
       "  <th>Df Residuals:</th>          <td>  1044</td>      <th>  BIC:               </th> <td>  -174.7</td> \n",
       "</tr>\n",
       "<tr>\n",
       "  <th>Df Model:</th>              <td>     1</td>      <th>                     </th>     <td> </td>    \n",
       "</tr>\n",
       "<tr>\n",
       "  <th>Covariance Type:</th>      <td>nonrobust</td>    <th>                     </th>     <td> </td>    \n",
       "</tr>\n",
       "</table>\n",
       "<table class=\"simpletable\">\n",
       "<tr>\n",
       "    <td></td>       <th>coef</th>     <th>std err</th>      <th>t</th>      <th>P>|t|</th>  <th>[0.025</th>    <th>0.975]</th>  \n",
       "</tr>\n",
       "<tr>\n",
       "  <th>const</th> <td>    1.1085</td> <td>    0.117</td> <td>    9.501</td> <td> 0.000</td> <td>    0.880</td> <td>    1.337</td>\n",
       "</tr>\n",
       "<tr>\n",
       "  <th>SQFT</th>  <td>    1.2992</td> <td>    0.036</td> <td>   35.775</td> <td> 0.000</td> <td>    1.228</td> <td>    1.370</td>\n",
       "</tr>\n",
       "</table>\n",
       "<table class=\"simpletable\">\n",
       "<tr>\n",
       "  <th>Omnibus:</th>       <td>78.075</td> <th>  Durbin-Watson:     </th> <td>   1.823</td>\n",
       "</tr>\n",
       "<tr>\n",
       "  <th>Prob(Omnibus):</th> <td> 0.000</td> <th>  Jarque-Bera (JB):  </th> <td> 122.521</td>\n",
       "</tr>\n",
       "<tr>\n",
       "  <th>Skew:</th>          <td>-0.561</td> <th>  Prob(JB):          </th> <td>2.48e-27</td>\n",
       "</tr>\n",
       "<tr>\n",
       "  <th>Kurtosis:</th>      <td> 4.246</td> <th>  Cond. No.          </th> <td>    60.1</td>\n",
       "</tr>\n",
       "</table>"
      ],
      "text/plain": [
       "<class 'statsmodels.iolib.summary.Summary'>\n",
       "\"\"\"\n",
       "                            OLS Regression Results                            \n",
       "==============================================================================\n",
       "Dep. Variable:              ListPrice   R-squared:                       0.551\n",
       "Model:                            OLS   Adj. R-squared:                  0.550\n",
       "Method:                 Least Squares   F-statistic:                     1280.\n",
       "Date:                Fri, 17 Feb 2017   Prob (F-statistic):          1.32e-183\n",
       "Time:                        09:39:37   Log-Likelihood:                 94.322\n",
       "No. Observations:                1046   AIC:                            -184.6\n",
       "Df Residuals:                    1044   BIC:                            -174.7\n",
       "Df Model:                           1                                         \n",
       "Covariance Type:            nonrobust                                         \n",
       "==============================================================================\n",
       "                 coef    std err          t      P>|t|      [0.025      0.975]\n",
       "------------------------------------------------------------------------------\n",
       "const          1.1085      0.117      9.501      0.000       0.880       1.337\n",
       "SQFT           1.2992      0.036     35.775      0.000       1.228       1.370\n",
       "==============================================================================\n",
       "Omnibus:                       78.075   Durbin-Watson:                   1.823\n",
       "Prob(Omnibus):                  0.000   Jarque-Bera (JB):              122.521\n",
       "Skew:                          -0.561   Prob(JB):                     2.48e-27\n",
       "Kurtosis:                       4.246   Cond. No.                         60.1\n",
       "==============================================================================\n",
       "\n",
       "Warnings:\n",
       "[1] Standard Errors assume that the covariance matrix of the errors is correctly specified.\n",
       "\"\"\""
      ]
     },
     "execution_count": 22,
     "metadata": {},
     "output_type": "execute_result"
    }
   ],
   "source": [
    "results.summary()"
   ]
  },
  {
   "cell_type": "markdown",
   "metadata": {},
   "source": [
    "The effect is statistically significant, and the regresssion has a solid R^2 value for a univariate regression (~55% of the variation in logged listing prices can be explained by the logged square footage). Doing some analysis of the residuals:"
   ]
  },
  {
   "cell_type": "code",
   "execution_count": 23,
   "metadata": {
    "collapsed": false
   },
   "outputs": [
    {
     "data": {
      "text/plain": [
       "(array([   7.,   12.,   39.,  104.,  282.,  338.,  223.,   36.,    4.,    1.]),\n",
       " array([-0.92001424, -0.74074282, -0.56147141, -0.3822    , -0.20292858,\n",
       "        -0.02365717,  0.15561425,  0.33488566,  0.51415707,  0.69342849,\n",
       "         0.8726999 ]),\n",
       " <a list of 10 Patch objects>)"
      ]
     },
     "execution_count": 23,
     "metadata": {},
     "output_type": "execute_result"
    },
    {
     "data": {
      "image/png": "[encoded data removed]",
      "text/plain": [
       "<matplotlib.figure.Figure at 0x1167cae10>"
      ]
     },
     "metadata": {},
     "output_type": "display_data"
    }
   ],
   "source": [
    "residuals = results.resid\n",
    "plt.hist(residuals)"
   ]
  },
  {
   "cell_type": "markdown",
   "metadata": {},
   "source": [
    "The residuals appear fairly normally distributed."
   ]
  },
  {
   "cell_type": "code",
   "execution_count": 24,
   "metadata": {
    "collapsed": false
   },
   "outputs": [
    {
     "data": {
      "text/plain": [
       "<matplotlib.collections.PathCollection at 0x116e12290>"
      ]
     },
     "execution_count": 24,
     "metadata": {},
     "output_type": "execute_result"
    },
    {
     "data": {
      "image/png": "[encoded data removed]",
      "text/plain": [
       "<matplotlib.figure.Figure at 0x116c30d10>"
      ]
     },
     "metadata": {},
     "output_type": "display_data"
    }
   ],
   "source": [
    "predictions = results.predict()\n",
    "plt.scatter(predictions, residuals)"
   ]
  },
  {
   "cell_type": "markdown",
   "metadata": {},
   "source": [
    "There doesn't appear to be any high degree of heteroskedasticity in the residuals either. With a high R^2 and no outstanding issues, this model should suffice to make a decent prediction. "
   ]
  },
  {
   "cell_type": "code",
   "execution_count": 25,
   "metadata": {
    "collapsed": false
   },
   "outputs": [
    {
     "data": {
      "text/plain": [
       "267711.3606777676"
      ]
     },
     "execution_count": 25,
     "metadata": {},
     "output_type": "execute_result"
    }
   ],
   "source": [
    "10**(results.params['const'] + results.params['SQFT'] * np.log10(2111))"
   ]
  },
  {
   "cell_type": "markdown",
   "metadata": {},
   "source": [
    "The cost of a property in this area with a 2111 square foot house on it would be approximately $267,711.36, according to this simple model."
   ]
  },
  {
   "cell_type": "markdown",
   "metadata": {},
   "source": [
    "## Question 3\n",
    "\n",
    "##### Imagine you are an enterprising real estate agent who has the chance to buy up a bundle of houses for sale – but you can only pick one zip code (either 55104 or 55108). \n",
    "##### Also, you can only buy a bundle of properties priced within the middle 50% of the values – you won’t be able to buy the most expensive houses or the cheapest houses. \n",
    "##### Assume the sample of houses in this dataset is representative for those zip codes. If you had the choice to buy 1000 homes in either 55104 or 55108 which zip code would you invest in and why? Provide your analysis and reasoning."
   ]
  },
  {
   "cell_type": "markdown",
   "metadata": {},
   "source": [
    "Let's start by subsetting our data frame to just these two zip codes and see many observations are left."
   ]
  },
  {
   "cell_type": "code",
   "execution_count": 26,
   "metadata": {
    "collapsed": false
   },
   "outputs": [
    {
     "data": {
      "text/plain": [
       "(89, 18)"
      ]
     },
     "execution_count": 26,
     "metadata": {},
     "output_type": "execute_result"
    }
   ],
   "source": [
    "two_codes = df[(df['ZIP'] == 55104) | (df['ZIP'] == 55108)]\n",
    "two_codes.shape"
   ]
  },
  {
   "cell_type": "code",
   "execution_count": 27,
   "metadata": {
    "collapsed": false
   },
   "outputs": [
    {
     "data": {
      "text/plain": [
       "<matplotlib.axes._subplots.AxesSubplot at 0x116cc8810>"
      ]
     },
     "execution_count": 27,
     "metadata": {},
     "output_type": "execute_result"
    },
    {
     "data": {
      "image/png": "[encoded data removed]",
      "text/plain": [
       "<matplotlib.figure.Figure at 0x116dca810>"
      ]
     },
     "metadata": {},
     "output_type": "display_data"
    }
   ],
   "source": [
    "two_codes.boxplot('ListPrice', by = 'ZIP')"
   ]
  },
  {
   "cell_type": "markdown",
   "metadata": {},
   "source": [
    "Right off the bat we can see that 55108 has slightly more expensive real estate in its middle 50%. Let's take a deeper look at what the properties look like in each zip code's middle 50%."
   ]
  },
  {
   "cell_type": "code",
   "execution_count": 28,
   "metadata": {
    "collapsed": false
   },
   "outputs": [],
   "source": [
    "bounds = two_codes.groupby('ZIP').describe().ListPrice\n",
    "\n",
    "#Creating a dataframe for each zip code's middle 50%\n",
    "sub_mask = (two_codes['ZIP'] == 55104) & (two_codes['ListPrice'] >= bounds[55104]['25%']) & (two_codes['ListPrice'] <= bounds[55104]['75%'])\n",
    "middle4 = two_codes[sub_mask]\n",
    "\n",
    "sub_mask = (two_codes['ZIP'] == 55108) & (two_codes['ListPrice'] >= bounds[55108]['25%']) & (two_codes['ListPrice'] <= bounds[55108]['75%'])\n",
    "middle8 = two_codes[sub_mask]"
   ]
  },
  {
   "cell_type": "code",
   "execution_count": 29,
   "metadata": {
    "collapsed": false
   },
   "outputs": [
    {
     "data": {
      "text/html": [
       "<div>\n",
       "<table border=\"1\" class=\"dataframe\">\n",
       "  <thead>\n",
       "    <tr style=\"text-align: right;\">\n",
       "      <th></th>\n",
       "      <th>ZIP</th>\n",
       "      <th>BEDS</th>\n",
       "      <th>BATHS</th>\n",
       "      <th>SQFT</th>\n",
       "      <th>LotSize</th>\n",
       "      <th>YearBuilt</th>\n",
       "      <th>ParkingSpots</th>\n",
       "      <th>HasGarage</th>\n",
       "      <th>DOM</th>\n",
       "      <th>SoldPrev</th>\n",
       "      <th>ShortSale</th>\n",
       "      <th>Age</th>\n",
       "    </tr>\n",
       "  </thead>\n",
       "  <tbody>\n",
       "    <tr>\n",
       "      <th>count</th>\n",
       "      <td>37.0</td>\n",
       "      <td>37.000000</td>\n",
       "      <td>37.000000</td>\n",
       "      <td>37.000000</td>\n",
       "      <td>37.000000</td>\n",
       "      <td>37.000000</td>\n",
       "      <td>37.000000</td>\n",
       "      <td>37.000000</td>\n",
       "      <td>37.000000</td>\n",
       "      <td>37.000000</td>\n",
       "      <td>37.0</td>\n",
       "      <td>37.000000</td>\n",
       "    </tr>\n",
       "    <tr>\n",
       "      <th>mean</th>\n",
       "      <td>55104.0</td>\n",
       "      <td>3.189189</td>\n",
       "      <td>1.385135</td>\n",
       "      <td>1368.000000</td>\n",
       "      <td>5013.675676</td>\n",
       "      <td>1915.945946</td>\n",
       "      <td>1.891892</td>\n",
       "      <td>0.918919</td>\n",
       "      <td>78.702703</td>\n",
       "      <td>0.459459</td>\n",
       "      <td>0.0</td>\n",
       "      <td>98.054054</td>\n",
       "    </tr>\n",
       "    <tr>\n",
       "      <th>std</th>\n",
       "      <td>0.0</td>\n",
       "      <td>0.876795</td>\n",
       "      <td>0.466200</td>\n",
       "      <td>311.441095</td>\n",
       "      <td>1386.232746</td>\n",
       "      <td>23.421199</td>\n",
       "      <td>1.074549</td>\n",
       "      <td>0.276725</td>\n",
       "      <td>42.899666</td>\n",
       "      <td>0.505228</td>\n",
       "      <td>0.0</td>\n",
       "      <td>23.421199</td>\n",
       "    </tr>\n",
       "    <tr>\n",
       "      <th>min</th>\n",
       "      <td>55104.0</td>\n",
       "      <td>1.000000</td>\n",
       "      <td>0.750000</td>\n",
       "      <td>784.000000</td>\n",
       "      <td>1001.000000</td>\n",
       "      <td>1886.000000</td>\n",
       "      <td>0.000000</td>\n",
       "      <td>0.000000</td>\n",
       "      <td>1.000000</td>\n",
       "      <td>0.000000</td>\n",
       "      <td>0.0</td>\n",
       "      <td>10.000000</td>\n",
       "    </tr>\n",
       "    <tr>\n",
       "      <th>25%</th>\n",
       "      <td>55104.0</td>\n",
       "      <td>3.000000</td>\n",
       "      <td>1.000000</td>\n",
       "      <td>1127.000000</td>\n",
       "      <td>4791.000000</td>\n",
       "      <td>1900.000000</td>\n",
       "      <td>1.000000</td>\n",
       "      <td>1.000000</td>\n",
       "      <td>50.000000</td>\n",
       "      <td>0.000000</td>\n",
       "      <td>0.0</td>\n",
       "      <td>93.000000</td>\n",
       "    </tr>\n",
       "    <tr>\n",
       "      <th>50%</th>\n",
       "      <td>55104.0</td>\n",
       "      <td>3.000000</td>\n",
       "      <td>1.250000</td>\n",
       "      <td>1369.000000</td>\n",
       "      <td>4791.000000</td>\n",
       "      <td>1911.000000</td>\n",
       "      <td>2.000000</td>\n",
       "      <td>1.000000</td>\n",
       "      <td>86.000000</td>\n",
       "      <td>0.000000</td>\n",
       "      <td>0.0</td>\n",
       "      <td>103.000000</td>\n",
       "    </tr>\n",
       "    <tr>\n",
       "      <th>75%</th>\n",
       "      <td>55104.0</td>\n",
       "      <td>4.000000</td>\n",
       "      <td>1.750000</td>\n",
       "      <td>1600.000000</td>\n",
       "      <td>4791.000000</td>\n",
       "      <td>1921.000000</td>\n",
       "      <td>2.000000</td>\n",
       "      <td>1.000000</td>\n",
       "      <td>106.000000</td>\n",
       "      <td>1.000000</td>\n",
       "      <td>0.0</td>\n",
       "      <td>114.000000</td>\n",
       "    </tr>\n",
       "    <tr>\n",
       "      <th>max</th>\n",
       "      <td>55104.0</td>\n",
       "      <td>5.000000</td>\n",
       "      <td>2.750000</td>\n",
       "      <td>1932.000000</td>\n",
       "      <td>9888.000000</td>\n",
       "      <td>2004.000000</td>\n",
       "      <td>5.000000</td>\n",
       "      <td>1.000000</td>\n",
       "      <td>137.000000</td>\n",
       "      <td>1.000000</td>\n",
       "      <td>0.0</td>\n",
       "      <td>128.000000</td>\n",
       "    </tr>\n",
       "  </tbody>\n",
       "</table>\n",
       "</div>"
      ],
      "text/plain": [
       "           ZIP       BEDS      BATHS         SQFT      LotSize    YearBuilt  \\\n",
       "count     37.0  37.000000  37.000000    37.000000    37.000000    37.000000   \n",
       "mean   55104.0   3.189189   1.385135  1368.000000  5013.675676  1915.945946   \n",
       "std        0.0   0.876795   0.466200   311.441095  1386.232746    23.421199   \n",
       "min    55104.0   1.000000   0.750000   784.000000  1001.000000  1886.000000   \n",
       "25%    55104.0   3.000000   1.000000  1127.000000  4791.000000  1900.000000   \n",
       "50%    55104.0   3.000000   1.250000  1369.000000  4791.000000  1911.000000   \n",
       "75%    55104.0   4.000000   1.750000  1600.000000  4791.000000  1921.000000   \n",
       "max    55104.0   5.000000   2.750000  1932.000000  9888.000000  2004.000000   \n",
       "\n",
       "       ParkingSpots  HasGarage         DOM   SoldPrev  ShortSale         Age  \n",
       "count     37.000000  37.000000   37.000000  37.000000       37.0   37.000000  \n",
       "mean       1.891892   0.918919   78.702703   0.459459        0.0   98.054054  \n",
       "std        1.074549   0.276725   42.899666   0.505228        0.0   23.421199  \n",
       "min        0.000000   0.000000    1.000000   0.000000        0.0   10.000000  \n",
       "25%        1.000000   1.000000   50.000000   0.000000        0.0   93.000000  \n",
       "50%        2.000000   1.000000   86.000000   0.000000        0.0  103.000000  \n",
       "75%        2.000000   1.000000  106.000000   1.000000        0.0  114.000000  \n",
       "max        5.000000   1.000000  137.000000   1.000000        0.0  128.000000  "
      ]
     },
     "execution_count": 29,
     "metadata": {},
     "output_type": "execute_result"
    }
   ],
   "source": [
    "middle4.describe().drop('ListPrice', axis=1)"
   ]
  },
  {
   "cell_type": "code",
   "execution_count": 30,
   "metadata": {
    "collapsed": false
   },
   "outputs": [
    {
     "data": {
      "text/html": [
       "<div>\n",
       "<table border=\"1\" class=\"dataframe\">\n",
       "  <thead>\n",
       "    <tr style=\"text-align: right;\">\n",
       "      <th></th>\n",
       "      <th>ZIP</th>\n",
       "      <th>BEDS</th>\n",
       "      <th>BATHS</th>\n",
       "      <th>SQFT</th>\n",
       "      <th>LotSize</th>\n",
       "      <th>YearBuilt</th>\n",
       "      <th>ParkingSpots</th>\n",
       "      <th>HasGarage</th>\n",
       "      <th>DOM</th>\n",
       "      <th>SoldPrev</th>\n",
       "      <th>ShortSale</th>\n",
       "      <th>Age</th>\n",
       "    </tr>\n",
       "  </thead>\n",
       "  <tbody>\n",
       "    <tr>\n",
       "      <th>count</th>\n",
       "      <td>7.0</td>\n",
       "      <td>7.000000</td>\n",
       "      <td>7.000000</td>\n",
       "      <td>7.000000</td>\n",
       "      <td>7.000000</td>\n",
       "      <td>7.000000</td>\n",
       "      <td>7.000000</td>\n",
       "      <td>7.0</td>\n",
       "      <td>7.000000</td>\n",
       "      <td>7.000000</td>\n",
       "      <td>7.000000</td>\n",
       "      <td>7.000000</td>\n",
       "    </tr>\n",
       "    <tr>\n",
       "      <th>mean</th>\n",
       "      <td>55108.0</td>\n",
       "      <td>2.714286</td>\n",
       "      <td>1.357143</td>\n",
       "      <td>1487.571429</td>\n",
       "      <td>5040.142857</td>\n",
       "      <td>1925.000000</td>\n",
       "      <td>1.285714</td>\n",
       "      <td>1.0</td>\n",
       "      <td>69.000000</td>\n",
       "      <td>0.142857</td>\n",
       "      <td>0.142857</td>\n",
       "      <td>89.000000</td>\n",
       "    </tr>\n",
       "    <tr>\n",
       "      <th>std</th>\n",
       "      <td>0.0</td>\n",
       "      <td>0.487950</td>\n",
       "      <td>0.349319</td>\n",
       "      <td>283.274224</td>\n",
       "      <td>233.051803</td>\n",
       "      <td>9.521905</td>\n",
       "      <td>0.487950</td>\n",
       "      <td>0.0</td>\n",
       "      <td>46.946778</td>\n",
       "      <td>0.377964</td>\n",
       "      <td>0.377964</td>\n",
       "      <td>9.521905</td>\n",
       "    </tr>\n",
       "    <tr>\n",
       "      <th>min</th>\n",
       "      <td>55108.0</td>\n",
       "      <td>2.000000</td>\n",
       "      <td>1.000000</td>\n",
       "      <td>1072.000000</td>\n",
       "      <td>4791.000000</td>\n",
       "      <td>1906.000000</td>\n",
       "      <td>1.000000</td>\n",
       "      <td>1.0</td>\n",
       "      <td>8.000000</td>\n",
       "      <td>0.000000</td>\n",
       "      <td>0.000000</td>\n",
       "      <td>80.000000</td>\n",
       "    </tr>\n",
       "    <tr>\n",
       "      <th>25%</th>\n",
       "      <td>55108.0</td>\n",
       "      <td>2.500000</td>\n",
       "      <td>1.000000</td>\n",
       "      <td>1332.000000</td>\n",
       "      <td>4791.000000</td>\n",
       "      <td>1923.000000</td>\n",
       "      <td>1.000000</td>\n",
       "      <td>1.0</td>\n",
       "      <td>41.500000</td>\n",
       "      <td>0.000000</td>\n",
       "      <td>0.000000</td>\n",
       "      <td>83.000000</td>\n",
       "    </tr>\n",
       "    <tr>\n",
       "      <th>50%</th>\n",
       "      <td>55108.0</td>\n",
       "      <td>3.000000</td>\n",
       "      <td>1.500000</td>\n",
       "      <td>1401.000000</td>\n",
       "      <td>5227.000000</td>\n",
       "      <td>1927.000000</td>\n",
       "      <td>1.000000</td>\n",
       "      <td>1.0</td>\n",
       "      <td>68.000000</td>\n",
       "      <td>0.000000</td>\n",
       "      <td>0.000000</td>\n",
       "      <td>87.000000</td>\n",
       "    </tr>\n",
       "    <tr>\n",
       "      <th>75%</th>\n",
       "      <td>55108.0</td>\n",
       "      <td>3.000000</td>\n",
       "      <td>1.625000</td>\n",
       "      <td>1720.500000</td>\n",
       "      <td>5227.000000</td>\n",
       "      <td>1931.000000</td>\n",
       "      <td>1.500000</td>\n",
       "      <td>1.0</td>\n",
       "      <td>93.500000</td>\n",
       "      <td>0.000000</td>\n",
       "      <td>0.000000</td>\n",
       "      <td>91.000000</td>\n",
       "    </tr>\n",
       "    <tr>\n",
       "      <th>max</th>\n",
       "      <td>55108.0</td>\n",
       "      <td>3.000000</td>\n",
       "      <td>1.750000</td>\n",
       "      <td>1835.000000</td>\n",
       "      <td>5227.000000</td>\n",
       "      <td>1934.000000</td>\n",
       "      <td>2.000000</td>\n",
       "      <td>1.0</td>\n",
       "      <td>137.000000</td>\n",
       "      <td>1.000000</td>\n",
       "      <td>1.000000</td>\n",
       "      <td>108.000000</td>\n",
       "    </tr>\n",
       "  </tbody>\n",
       "</table>\n",
       "</div>"
      ],
      "text/plain": [
       "           ZIP      BEDS     BATHS         SQFT      LotSize    YearBuilt  \\\n",
       "count      7.0  7.000000  7.000000     7.000000     7.000000     7.000000   \n",
       "mean   55108.0  2.714286  1.357143  1487.571429  5040.142857  1925.000000   \n",
       "std        0.0  0.487950  0.349319   283.274224   233.051803     9.521905   \n",
       "min    55108.0  2.000000  1.000000  1072.000000  4791.000000  1906.000000   \n",
       "25%    55108.0  2.500000  1.000000  1332.000000  4791.000000  1923.000000   \n",
       "50%    55108.0  3.000000  1.500000  1401.000000  5227.000000  1927.000000   \n",
       "75%    55108.0  3.000000  1.625000  1720.500000  5227.000000  1931.000000   \n",
       "max    55108.0  3.000000  1.750000  1835.000000  5227.000000  1934.000000   \n",
       "\n",
       "       ParkingSpots  HasGarage         DOM  SoldPrev  ShortSale         Age  \n",
       "count      7.000000        7.0    7.000000  7.000000   7.000000    7.000000  \n",
       "mean       1.285714        1.0   69.000000  0.142857   0.142857   89.000000  \n",
       "std        0.487950        0.0   46.946778  0.377964   0.377964    9.521905  \n",
       "min        1.000000        1.0    8.000000  0.000000   0.000000   80.000000  \n",
       "25%        1.000000        1.0   41.500000  0.000000   0.000000   83.000000  \n",
       "50%        1.000000        1.0   68.000000  0.000000   0.000000   87.000000  \n",
       "75%        1.500000        1.0   93.500000  0.000000   0.000000   91.000000  \n",
       "max        2.000000        1.0  137.000000  1.000000   1.000000  108.000000  "
      ]
     },
     "execution_count": 30,
     "metadata": {},
     "output_type": "execute_result"
    }
   ],
   "source": [
    "middle8.describe().drop('ListPrice', axis=1)"
   ]
  },
  {
   "cell_type": "markdown",
   "metadata": {},
   "source": [
    "It's hard to say too much about the properties in 55108 because it's a small sample size, however it seems like the properties here are more consistent. The properties are all consistently older and while there aren't any houses that seem to be outstanding in terms of size and amenities, they all seem to be of quality (every single house has a garage, for example). I would guess that this is a more suburban, family-type area. This would be a good zip code to invest in for a dependable investment.\n",
    "\n",
    "55104 seems to have much more variation. Everything's cheaper, and while many houses are smaller and have fewer amenities, there's a chance you can get a much bigger and more complete house than anything you can find in 55108. A lot of places are old, but there are younger structures than anything in 55108 as well. I would guess that this is probably somewhere closer downtown, that could have the potential to go through some sort of revitalization process. This would be the zip code to invest in that could be more high-risk, high-reward.\n",
    "\n",
    "Ultimately, which zip code to invest in would depend on the investor's tolerance for risk. Since I'm at a point in my life where I can probably handle riskier, higher growth opportunities, I would probably buy property in 55104."
   ]
  },
  {
   "cell_type": "markdown",
   "metadata": {},
   "source": [
    "## Question 4\n",
    "\n",
    "##### We’re looking to understand what features of the home are most important to potentially predicting the list price of a house. What has the strongest relationship to listing price: square foot, lot size, or number of bedrooms? How do they compare? Please explain."
   ]
  },
  {
   "cell_type": "code",
   "execution_count": 31,
   "metadata": {
    "collapsed": false
   },
   "outputs": [
    {
     "data": {
      "text/html": [
       "<div>\n",
       "<table border=\"1\" class=\"dataframe\">\n",
       "  <thead>\n",
       "    <tr style=\"text-align: right;\">\n",
       "      <th></th>\n",
       "      <th>ListPrice</th>\n",
       "      <th>SQFT</th>\n",
       "      <th>LotSize</th>\n",
       "      <th>BEDS</th>\n",
       "    </tr>\n",
       "  </thead>\n",
       "  <tbody>\n",
       "    <tr>\n",
       "      <th>ListPrice</th>\n",
       "      <td>1.000000</td>\n",
       "      <td>0.824046</td>\n",
       "      <td>0.259727</td>\n",
       "      <td>0.400118</td>\n",
       "    </tr>\n",
       "    <tr>\n",
       "      <th>SQFT</th>\n",
       "      <td>0.824046</td>\n",
       "      <td>1.000000</td>\n",
       "      <td>0.264090</td>\n",
       "      <td>0.638438</td>\n",
       "    </tr>\n",
       "    <tr>\n",
       "      <th>LotSize</th>\n",
       "      <td>0.259727</td>\n",
       "      <td>0.264090</td>\n",
       "      <td>1.000000</td>\n",
       "      <td>0.159209</td>\n",
       "    </tr>\n",
       "    <tr>\n",
       "      <th>BEDS</th>\n",
       "      <td>0.400118</td>\n",
       "      <td>0.638438</td>\n",
       "      <td>0.159209</td>\n",
       "      <td>1.000000</td>\n",
       "    </tr>\n",
       "  </tbody>\n",
       "</table>\n",
       "</div>"
      ],
      "text/plain": [
       "           ListPrice      SQFT   LotSize      BEDS\n",
       "ListPrice   1.000000  0.824046  0.259727  0.400118\n",
       "SQFT        0.824046  1.000000  0.264090  0.638438\n",
       "LotSize     0.259727  0.264090  1.000000  0.159209\n",
       "BEDS        0.400118  0.638438  0.159209  1.000000"
      ]
     },
     "execution_count": 31,
     "metadata": {},
     "output_type": "execute_result"
    }
   ],
   "source": [
    "df[['ListPrice','SQFT', 'LotSize', 'BEDS']].corr()"
   ]
  },
  {
   "cell_type": "markdown",
   "metadata": {},
   "source": [
    "Just looking at the correlations, square footage seems to have the strongest relationship with list price. We can also take a look at a linear regression with these variables to get a sense as to the magnitude of each variable's effect."
   ]
  },
  {
   "cell_type": "code",
   "execution_count": 32,
   "metadata": {
    "collapsed": false
   },
   "outputs": [
    {
     "data": {
      "text/html": [
       "<table class=\"simpletable\">\n",
       "<caption>OLS Regression Results</caption>\n",
       "<tr>\n",
       "  <th>Dep. Variable:</th>        <td>ListPrice</td>    <th>  R-squared:         </th> <td>   0.708</td> \n",
       "</tr>\n",
       "<tr>\n",
       "  <th>Model:</th>                   <td>OLS</td>       <th>  Adj. R-squared:    </th> <td>   0.707</td> \n",
       "</tr>\n",
       "<tr>\n",
       "  <th>Method:</th>             <td>Least Squares</td>  <th>  F-statistic:       </th> <td>   840.4</td> \n",
       "</tr>\n",
       "<tr>\n",
       "  <th>Date:</th>             <td>Fri, 17 Feb 2017</td> <th>  Prob (F-statistic):</th> <td>1.35e-277</td>\n",
       "</tr>\n",
       "<tr>\n",
       "  <th>Time:</th>                 <td>09:39:39</td>     <th>  Log-Likelihood:    </th> <td> -14269.</td> \n",
       "</tr>\n",
       "<tr>\n",
       "  <th>No. Observations:</th>      <td>  1046</td>      <th>  AIC:               </th> <td>2.855e+04</td>\n",
       "</tr>\n",
       "<tr>\n",
       "  <th>Df Residuals:</th>          <td>  1042</td>      <th>  BIC:               </th> <td>2.857e+04</td>\n",
       "</tr>\n",
       "<tr>\n",
       "  <th>Df Model:</th>              <td>     3</td>      <th>                     </th>     <td> </td>    \n",
       "</tr>\n",
       "<tr>\n",
       "  <th>Covariance Type:</th>      <td>nonrobust</td>    <th>                     </th>     <td> </td>    \n",
       "</tr>\n",
       "</table>\n",
       "<table class=\"simpletable\">\n",
       "<tr>\n",
       "     <td></td>        <th>coef</th>     <th>std err</th>      <th>t</th>      <th>P>|t|</th>  <th>[0.025</th>    <th>0.975]</th>  \n",
       "</tr>\n",
       "<tr>\n",
       "  <th>const</th>   <td>-1.283e+05</td> <td> 2.25e+04</td> <td>   -5.704</td> <td> 0.000</td> <td>-1.72e+05</td> <td>-8.42e+04</td>\n",
       "</tr>\n",
       "<tr>\n",
       "  <th>SQFT</th>    <td>  366.5132</td> <td>    8.614</td> <td>   42.548</td> <td> 0.000</td> <td>  349.610</td> <td>  383.416</td>\n",
       "</tr>\n",
       "<tr>\n",
       "  <th>LotSize</th> <td>    2.2067</td> <td>    0.889</td> <td>    2.482</td> <td> 0.013</td> <td>    0.462</td> <td>    3.951</td>\n",
       "</tr>\n",
       "<tr>\n",
       "  <th>BEDS</th>    <td> -8.41e+04</td> <td> 8635.828</td> <td>   -9.739</td> <td> 0.000</td> <td>-1.01e+05</td> <td>-6.72e+04</td>\n",
       "</tr>\n",
       "</table>\n",
       "<table class=\"simpletable\">\n",
       "<tr>\n",
       "  <th>Omnibus:</th>       <td>863.320</td> <th>  Durbin-Watson:     </th> <td>   1.967</td> \n",
       "</tr>\n",
       "<tr>\n",
       "  <th>Prob(Omnibus):</th> <td> 0.000</td>  <th>  Jarque-Bera (JB):  </th> <td>46167.962</td>\n",
       "</tr>\n",
       "<tr>\n",
       "  <th>Skew:</th>          <td> 3.380</td>  <th>  Prob(JB):          </th> <td>    0.00</td> \n",
       "</tr>\n",
       "<tr>\n",
       "  <th>Kurtosis:</th>      <td>34.837</td>  <th>  Cond. No.          </th> <td>3.76e+04</td> \n",
       "</tr>\n",
       "</table>"
      ],
      "text/plain": [
       "<class 'statsmodels.iolib.summary.Summary'>\n",
       "\"\"\"\n",
       "                            OLS Regression Results                            \n",
       "==============================================================================\n",
       "Dep. Variable:              ListPrice   R-squared:                       0.708\n",
       "Model:                            OLS   Adj. R-squared:                  0.707\n",
       "Method:                 Least Squares   F-statistic:                     840.4\n",
       "Date:                Fri, 17 Feb 2017   Prob (F-statistic):          1.35e-277\n",
       "Time:                        09:39:39   Log-Likelihood:                -14269.\n",
       "No. Observations:                1046   AIC:                         2.855e+04\n",
       "Df Residuals:                    1042   BIC:                         2.857e+04\n",
       "Df Model:                           3                                         \n",
       "Covariance Type:            nonrobust                                         \n",
       "==============================================================================\n",
       "                 coef    std err          t      P>|t|      [0.025      0.975]\n",
       "------------------------------------------------------------------------------\n",
       "const      -1.283e+05   2.25e+04     -5.704      0.000   -1.72e+05   -8.42e+04\n",
       "SQFT         366.5132      8.614     42.548      0.000     349.610     383.416\n",
       "LotSize        2.2067      0.889      2.482      0.013       0.462       3.951\n",
       "BEDS        -8.41e+04   8635.828     -9.739      0.000   -1.01e+05   -6.72e+04\n",
       "==============================================================================\n",
       "Omnibus:                      863.320   Durbin-Watson:                   1.967\n",
       "Prob(Omnibus):                  0.000   Jarque-Bera (JB):            46167.962\n",
       "Skew:                           3.380   Prob(JB):                         0.00\n",
       "Kurtosis:                      34.837   Cond. No.                     3.76e+04\n",
       "==============================================================================\n",
       "\n",
       "Warnings:\n",
       "[1] Standard Errors assume that the covariance matrix of the errors is correctly specified.\n",
       "[2] The condition number is large, 3.76e+04. This might indicate that there are\n",
       "strong multicollinearity or other numerical problems.\n",
       "\"\"\""
      ]
     },
     "execution_count": 32,
     "metadata": {},
     "output_type": "execute_result"
    }
   ],
   "source": [
    "y = df['ListPrice']\n",
    "X = sm.add_constant(df[['SQFT', 'LotSize', 'BEDS']])\n",
    "\n",
    "model = sm.OLS(y, X)\n",
    "results = model.fit()\n",
    "results.summary()"
   ]
  },
  {
   "cell_type": "markdown",
   "metadata": {},
   "source": [
    "While this may or may not be a great model to predict with, we can at least see that all three variables do appear to have some sort of effect, and again square footage seems to have the strongest positive effect. \n",
    "\n",
    "Since square footage and lot size are both measured in square feet, it's a pretty easy comparison to make: all else constant, each additional square foot of house size increases the list price by around \\$366.51 according to the model, while each additional square foot of lot size increases the list price by around $2.20.\n",
    "\n",
    "The coefficient on number of bedrooms seems curious. According to this model, each additional bedroom should *decrease* the value of the property by around $8410. Perhaps this is indicative of the fact that cramming more bedrooms into a house while keeping the square footage constant might make it less valuable.\n",
    "\n",
    "With more time, I might look into making better models that would more accurately reflect each variable's effect on list price, but for now, all evidence seems to point to the square footage of the house being the most important."
   ]
  },
  {
   "cell_type": "markdown",
   "metadata": {},
   "source": [
    "## Question 5\n",
    "\n",
    "##### Short sales are sometimes good opportunities to get value for a house but there is also the risk the property will need a lot of work. How do short sales compare on the average square foot of the house, average price per square foot, and the average lot size?\n",
    "##### Now pivot this data based on the location field. Are short sales always a better deal than regular listings? Can we say with certainty this is true for every location? Why or why not?"
   ]
  },
  {
   "cell_type": "code",
   "execution_count": 33,
   "metadata": {
    "collapsed": false
   },
   "outputs": [
    {
     "data": {
      "text/html": [
       "<div>\n",
       "<table border=\"1\" class=\"dataframe\">\n",
       "  <thead>\n",
       "    <tr style=\"text-align: right;\">\n",
       "      <th></th>\n",
       "      <th>ListPrice</th>\n",
       "      <th>SQFT</th>\n",
       "      <th>LotSize</th>\n",
       "    </tr>\n",
       "    <tr>\n",
       "      <th>ShortSale</th>\n",
       "      <th></th>\n",
       "      <th></th>\n",
       "      <th></th>\n",
       "    </tr>\n",
       "  </thead>\n",
       "  <tbody>\n",
       "    <tr>\n",
       "      <th>0</th>\n",
       "      <td>282544.497955</td>\n",
       "      <td>1808.618609</td>\n",
       "      <td>6714.119632</td>\n",
       "    </tr>\n",
       "    <tr>\n",
       "      <th>1</th>\n",
       "      <td>143339.970588</td>\n",
       "      <td>1510.073529</td>\n",
       "      <td>6347.779412</td>\n",
       "    </tr>\n",
       "  </tbody>\n",
       "</table>\n",
       "</div>"
      ],
      "text/plain": [
       "               ListPrice         SQFT      LotSize\n",
       "ShortSale                                         \n",
       "0          282544.497955  1808.618609  6714.119632\n",
       "1          143339.970588  1510.073529  6347.779412"
      ]
     },
     "execution_count": 33,
     "metadata": {},
     "output_type": "execute_result"
    }
   ],
   "source": [
    "shorts = df.groupby('ShortSale').mean()[['ListPrice', 'SQFT', 'LotSize']]\n",
    "shorts"
   ]
  },
  {
   "cell_type": "markdown",
   "metadata": {
    "collapsed": true
   },
   "source": [
    "Short sale houses tend to be moderately smaller, but have much lower prices."
   ]
  },
  {
   "cell_type": "code",
   "execution_count": null,
   "metadata": {
    "collapsed": true
   },
   "outputs": [],
   "source": []
  },
  {
   "cell_type": "markdown",
   "metadata": {},
   "source": [
    "## Question 6\n",
    "\n",
    "##### We’d like to understand how listings compare with the population in their area. Take the zip code data in the 2nd sheet and match against the house listing data. What zip codes have the highest amount of listings per the population size? Show the top 10.\n",
    "##### Separately, what zip code has the highest listing price per person? Google that zip code and provide some hypothesis and examples as to why this might be true."
   ]
  },
  {
   "cell_type": "code",
   "execution_count": 34,
   "metadata": {
    "collapsed": false
   },
   "outputs": [
    {
     "data": {
      "text/html": [
       "<div>\n",
       "<table border=\"1\" class=\"dataframe\">\n",
       "  <thead>\n",
       "    <tr style=\"text-align: right;\">\n",
       "      <th></th>\n",
       "      <th>ID</th>\n",
       "      <th>ZipCode</th>\n",
       "      <th>Population_2010_Census</th>\n",
       "      <th>ListingsPerCap</th>\n",
       "    </tr>\n",
       "  </thead>\n",
       "  <tbody>\n",
       "    <tr>\n",
       "      <th>18509</th>\n",
       "      <td>98</td>\n",
       "      <td>55412</td>\n",
       "      <td>22148</td>\n",
       "      <td>0.004425</td>\n",
       "    </tr>\n",
       "    <tr>\n",
       "      <th>18507</th>\n",
       "      <td>54</td>\n",
       "      <td>55410</td>\n",
       "      <td>19340</td>\n",
       "      <td>0.002792</td>\n",
       "    </tr>\n",
       "    <tr>\n",
       "      <th>18385</th>\n",
       "      <td>123</td>\n",
       "      <td>55106</td>\n",
       "      <td>52730</td>\n",
       "      <td>0.002333</td>\n",
       "    </tr>\n",
       "    <tr>\n",
       "      <th>18514</th>\n",
       "      <td>55</td>\n",
       "      <td>55417</td>\n",
       "      <td>24875</td>\n",
       "      <td>0.002211</td>\n",
       "    </tr>\n",
       "    <tr>\n",
       "      <th>18516</th>\n",
       "      <td>58</td>\n",
       "      <td>55419</td>\n",
       "      <td>26406</td>\n",
       "      <td>0.002196</td>\n",
       "    </tr>\n",
       "    <tr>\n",
       "      <th>18503</th>\n",
       "      <td>67</td>\n",
       "      <td>55406</td>\n",
       "      <td>32112</td>\n",
       "      <td>0.002086</td>\n",
       "    </tr>\n",
       "    <tr>\n",
       "      <th>18386</th>\n",
       "      <td>30</td>\n",
       "      <td>55107</td>\n",
       "      <td>14776</td>\n",
       "      <td>0.002030</td>\n",
       "    </tr>\n",
       "    <tr>\n",
       "      <th>18395</th>\n",
       "      <td>44</td>\n",
       "      <td>55116</td>\n",
       "      <td>23851</td>\n",
       "      <td>0.001845</td>\n",
       "    </tr>\n",
       "    <tr>\n",
       "      <th>18384</th>\n",
       "      <td>49</td>\n",
       "      <td>55105</td>\n",
       "      <td>28455</td>\n",
       "      <td>0.001722</td>\n",
       "    </tr>\n",
       "    <tr>\n",
       "      <th>18383</th>\n",
       "      <td>74</td>\n",
       "      <td>55104</td>\n",
       "      <td>43248</td>\n",
       "      <td>0.001711</td>\n",
       "    </tr>\n",
       "  </tbody>\n",
       "</table>\n",
       "</div>"
      ],
      "text/plain": [
       "        ID  ZipCode  Population_2010_Census  ListingsPerCap\n",
       "18509   98    55412                   22148        0.004425\n",
       "18507   54    55410                   19340        0.002792\n",
       "18385  123    55106                   52730        0.002333\n",
       "18514   55    55417                   24875        0.002211\n",
       "18516   58    55419                   26406        0.002196\n",
       "18503   67    55406                   32112        0.002086\n",
       "18386   30    55107                   14776        0.002030\n",
       "18395   44    55116                   23851        0.001845\n",
       "18384   49    55105                   28455        0.001722\n",
       "18383   74    55104                   43248        0.001711"
      ]
     },
     "execution_count": 34,
     "metadata": {},
     "output_type": "execute_result"
    }
   ],
   "source": [
    "zip_listings = pd.DataFrame(df.groupby('ZIP').count().ID)\n",
    "zip_pop = pd.merge(zip_listings, zips, left_index = True, right_on = 'ZipCode', how = 'left')\n",
    "zip_pop['ListingsPerCap'] = zip_pop['ID'] / zip_pop['Population_2010_Census']\n",
    "zip_pop.sort_values('ListingsPerCap', ascending=False)[:10]"
   ]
  },
  {
   "cell_type": "markdown",
   "metadata": {},
   "source": [
    "\"Highest listing price per person\" is a little vague, so I interpreted it to mean the zip code with the highest total value listed (sum of listings) divided by the population. "
   ]
  },
  {
   "cell_type": "code",
   "execution_count": 35,
   "metadata": {
    "collapsed": false
   },
   "outputs": [
    {
     "data": {
      "text/html": [
       "<div>\n",
       "<table border=\"1\" class=\"dataframe\">\n",
       "  <thead>\n",
       "    <tr style=\"text-align: right;\">\n",
       "      <th></th>\n",
       "      <th>ListPrice</th>\n",
       "      <th>ZipCode</th>\n",
       "      <th>Population_2010_Census</th>\n",
       "      <th>PricePerCap</th>\n",
       "    </tr>\n",
       "  </thead>\n",
       "  <tbody>\n",
       "    <tr>\n",
       "      <th>18507</th>\n",
       "      <td>44256911</td>\n",
       "      <td>55410</td>\n",
       "      <td>19340</td>\n",
       "      <td>2288.361479</td>\n",
       "    </tr>\n",
       "  </tbody>\n",
       "</table>\n",
       "</div>"
      ],
      "text/plain": [
       "       ListPrice  ZipCode  Population_2010_Census  PricePerCap\n",
       "18507   44256911    55410                   19340  2288.361479"
      ]
     },
     "execution_count": 35,
     "metadata": {},
     "output_type": "execute_result"
    }
   ],
   "source": [
    "mean_prices = pd.DataFrame(df.groupby('ZIP').sum().ListPrice)\n",
    "price_pop = pd.merge(mean_prices, zips, left_index = True, right_on = 'ZipCode', how = 'left')\n",
    "price_pop['PricePerCap'] = price_pop['ListPrice'] / price_pop['Population_2010_Census']\n",
    "price_pop.sort_values('PricePerCap', ascending=False).head(1)"
   ]
  },
  {
   "cell_type": "code",
   "execution_count": null,
   "metadata": {
    "collapsed": true
   },
   "outputs": [],
   "source": []
  },
  {
   "cell_type": "markdown",
   "metadata": {},
   "source": [
    "## Question 7\n",
    "\n",
    "##### You’ve just been hired as a data scientist at the premier real estate firm in this area. They want to forecast the actual sales price for any of these listings (and future listings).\n",
    "##### What variables from this example data do you think would be the most predictive of the actual sales price? What other kinds of data would you want have to provide the most accurate prediction of the actual sales price? \n",
    "##### Assume you can get any data you want. Describe this data clearly and why you think it would help you build an accurate predictive model."
   ]
  },
  {
   "cell_type": "markdown",
   "metadata": {},
   "source": [
    "Square footage has shown up repeatedly as a strong predictor of list price in this analysis. Let's take a look at a more extended version of the correlation matrix I used in Question 4 to examine the strength of each variable."
   ]
  },
  {
   "cell_type": "code",
   "execution_count": 36,
   "metadata": {
    "collapsed": false,
    "scrolled": true
   },
   "outputs": [
    {
     "data": {
      "text/html": [
       "<div>\n",
       "<table border=\"1\" class=\"dataframe\">\n",
       "  <thead>\n",
       "    <tr style=\"text-align: right;\">\n",
       "      <th></th>\n",
       "      <th>ListPrice</th>\n",
       "      <th>BEDS</th>\n",
       "      <th>BATHS</th>\n",
       "      <th>SQFT</th>\n",
       "      <th>LotSize</th>\n",
       "      <th>ParkingSpots</th>\n",
       "      <th>HasGarage</th>\n",
       "      <th>DOM</th>\n",
       "      <th>SoldPrev</th>\n",
       "      <th>ShortSale</th>\n",
       "      <th>Age</th>\n",
       "    </tr>\n",
       "  </thead>\n",
       "  <tbody>\n",
       "    <tr>\n",
       "      <th>ZIP</th>\n",
       "      <td>0.134766</td>\n",
       "      <td>-0.047141</td>\n",
       "      <td>0.038006</td>\n",
       "      <td>0.063614</td>\n",
       "      <td>-0.082407</td>\n",
       "      <td>-0.035227</td>\n",
       "      <td>0.111740</td>\n",
       "      <td>-0.052629</td>\n",
       "      <td>0.063294</td>\n",
       "      <td>-0.001799</td>\n",
       "      <td>-0.129239</td>\n",
       "    </tr>\n",
       "    <tr>\n",
       "      <th>ListPrice</th>\n",
       "      <td>1.000000</td>\n",
       "      <td>0.400118</td>\n",
       "      <td>0.707850</td>\n",
       "      <td>0.824046</td>\n",
       "      <td>0.259727</td>\n",
       "      <td>0.241954</td>\n",
       "      <td>0.076656</td>\n",
       "      <td>0.129564</td>\n",
       "      <td>-0.021497</td>\n",
       "      <td>-0.091242</td>\n",
       "      <td>-0.227587</td>\n",
       "    </tr>\n",
       "    <tr>\n",
       "      <th>BEDS</th>\n",
       "      <td>0.400118</td>\n",
       "      <td>1.000000</td>\n",
       "      <td>0.619517</td>\n",
       "      <td>0.638438</td>\n",
       "      <td>0.159209</td>\n",
       "      <td>0.195976</td>\n",
       "      <td>0.031157</td>\n",
       "      <td>0.024844</td>\n",
       "      <td>0.058530</td>\n",
       "      <td>-0.095143</td>\n",
       "      <td>-0.173837</td>\n",
       "    </tr>\n",
       "    <tr>\n",
       "      <th>BATHS</th>\n",
       "      <td>0.707850</td>\n",
       "      <td>0.619517</td>\n",
       "      <td>1.000000</td>\n",
       "      <td>0.839280</td>\n",
       "      <td>0.203692</td>\n",
       "      <td>0.284886</td>\n",
       "      <td>0.096358</td>\n",
       "      <td>0.074581</td>\n",
       "      <td>0.039459</td>\n",
       "      <td>-0.067862</td>\n",
       "      <td>-0.310650</td>\n",
       "    </tr>\n",
       "    <tr>\n",
       "      <th>SQFT</th>\n",
       "      <td>0.824046</td>\n",
       "      <td>0.638438</td>\n",
       "      <td>0.839280</td>\n",
       "      <td>1.000000</td>\n",
       "      <td>0.264090</td>\n",
       "      <td>0.306510</td>\n",
       "      <td>0.068392</td>\n",
       "      <td>0.116635</td>\n",
       "      <td>-0.030727</td>\n",
       "      <td>-0.075655</td>\n",
       "      <td>-0.236926</td>\n",
       "    </tr>\n",
       "    <tr>\n",
       "      <th>LotSize</th>\n",
       "      <td>0.259727</td>\n",
       "      <td>0.159209</td>\n",
       "      <td>0.203692</td>\n",
       "      <td>0.264090</td>\n",
       "      <td>1.000000</td>\n",
       "      <td>0.141243</td>\n",
       "      <td>0.047955</td>\n",
       "      <td>0.074528</td>\n",
       "      <td>-0.085887</td>\n",
       "      <td>-0.012288</td>\n",
       "      <td>-0.026312</td>\n",
       "    </tr>\n",
       "    <tr>\n",
       "      <th>YearBuilt</th>\n",
       "      <td>0.227587</td>\n",
       "      <td>0.173837</td>\n",
       "      <td>0.310650</td>\n",
       "      <td>0.236926</td>\n",
       "      <td>0.026312</td>\n",
       "      <td>0.081422</td>\n",
       "      <td>0.168421</td>\n",
       "      <td>-0.013302</td>\n",
       "      <td>0.071662</td>\n",
       "      <td>-0.030976</td>\n",
       "      <td>-1.000000</td>\n",
       "    </tr>\n",
       "    <tr>\n",
       "      <th>ParkingSpots</th>\n",
       "      <td>0.241954</td>\n",
       "      <td>0.195976</td>\n",
       "      <td>0.284886</td>\n",
       "      <td>0.306510</td>\n",
       "      <td>0.141243</td>\n",
       "      <td>1.000000</td>\n",
       "      <td>0.281160</td>\n",
       "      <td>0.032527</td>\n",
       "      <td>-0.021059</td>\n",
       "      <td>-0.025773</td>\n",
       "      <td>-0.081422</td>\n",
       "    </tr>\n",
       "    <tr>\n",
       "      <th>HasGarage</th>\n",
       "      <td>0.076656</td>\n",
       "      <td>0.031157</td>\n",
       "      <td>0.096358</td>\n",
       "      <td>0.068392</td>\n",
       "      <td>0.047955</td>\n",
       "      <td>0.281160</td>\n",
       "      <td>1.000000</td>\n",
       "      <td>-0.009998</td>\n",
       "      <td>-0.019169</td>\n",
       "      <td>0.013296</td>\n",
       "      <td>-0.168421</td>\n",
       "    </tr>\n",
       "    <tr>\n",
       "      <th>DOM</th>\n",
       "      <td>0.129564</td>\n",
       "      <td>0.024844</td>\n",
       "      <td>0.074581</td>\n",
       "      <td>0.116635</td>\n",
       "      <td>0.074528</td>\n",
       "      <td>0.032527</td>\n",
       "      <td>-0.009998</td>\n",
       "      <td>1.000000</td>\n",
       "      <td>-0.077773</td>\n",
       "      <td>0.110658</td>\n",
       "      <td>0.013302</td>\n",
       "    </tr>\n",
       "    <tr>\n",
       "      <th>SoldPrev</th>\n",
       "      <td>-0.021497</td>\n",
       "      <td>0.058530</td>\n",
       "      <td>0.039459</td>\n",
       "      <td>-0.030727</td>\n",
       "      <td>-0.085887</td>\n",
       "      <td>-0.021059</td>\n",
       "      <td>-0.019169</td>\n",
       "      <td>-0.077773</td>\n",
       "      <td>1.000000</td>\n",
       "      <td>-0.101700</td>\n",
       "      <td>-0.071662</td>\n",
       "    </tr>\n",
       "    <tr>\n",
       "      <th>ShortSale</th>\n",
       "      <td>-0.091242</td>\n",
       "      <td>-0.095143</td>\n",
       "      <td>-0.067862</td>\n",
       "      <td>-0.075655</td>\n",
       "      <td>-0.012288</td>\n",
       "      <td>-0.025773</td>\n",
       "      <td>0.013296</td>\n",
       "      <td>0.110658</td>\n",
       "      <td>-0.101700</td>\n",
       "      <td>1.000000</td>\n",
       "      <td>0.030976</td>\n",
       "    </tr>\n",
       "    <tr>\n",
       "      <th>Age</th>\n",
       "      <td>-0.227587</td>\n",
       "      <td>-0.173837</td>\n",
       "      <td>-0.310650</td>\n",
       "      <td>-0.236926</td>\n",
       "      <td>-0.026312</td>\n",
       "      <td>-0.081422</td>\n",
       "      <td>-0.168421</td>\n",
       "      <td>0.013302</td>\n",
       "      <td>-0.071662</td>\n",
       "      <td>0.030976</td>\n",
       "      <td>1.000000</td>\n",
       "    </tr>\n",
       "  </tbody>\n",
       "</table>\n",
       "</div>"
      ],
      "text/plain": [
       "              ListPrice      BEDS     BATHS      SQFT   LotSize  ParkingSpots  \\\n",
       "ZIP            0.134766 -0.047141  0.038006  0.063614 -0.082407     -0.035227   \n",
       "ListPrice      1.000000  0.400118  0.707850  0.824046  0.259727      0.241954   \n",
       "BEDS           0.400118  1.000000  0.619517  0.638438  0.159209      0.195976   \n",
       "BATHS          0.707850  0.619517  1.000000  0.839280  0.203692      0.284886   \n",
       "SQFT           0.824046  0.638438  0.839280  1.000000  0.264090      0.306510   \n",
       "LotSize        0.259727  0.159209  0.203692  0.264090  1.000000      0.141243   \n",
       "YearBuilt      0.227587  0.173837  0.310650  0.236926  0.026312      0.081422   \n",
       "ParkingSpots   0.241954  0.195976  0.284886  0.306510  0.141243      1.000000   \n",
       "HasGarage      0.076656  0.031157  0.096358  0.068392  0.047955      0.281160   \n",
       "DOM            0.129564  0.024844  0.074581  0.116635  0.074528      0.032527   \n",
       "SoldPrev      -0.021497  0.058530  0.039459 -0.030727 -0.085887     -0.021059   \n",
       "ShortSale     -0.091242 -0.095143 -0.067862 -0.075655 -0.012288     -0.025773   \n",
       "Age           -0.227587 -0.173837 -0.310650 -0.236926 -0.026312     -0.081422   \n",
       "\n",
       "              HasGarage       DOM  SoldPrev  ShortSale       Age  \n",
       "ZIP            0.111740 -0.052629  0.063294  -0.001799 -0.129239  \n",
       "ListPrice      0.076656  0.129564 -0.021497  -0.091242 -0.227587  \n",
       "BEDS           0.031157  0.024844  0.058530  -0.095143 -0.173837  \n",
       "BATHS          0.096358  0.074581  0.039459  -0.067862 -0.310650  \n",
       "SQFT           0.068392  0.116635 -0.030727  -0.075655 -0.236926  \n",
       "LotSize        0.047955  0.074528 -0.085887  -0.012288 -0.026312  \n",
       "YearBuilt      0.168421 -0.013302  0.071662  -0.030976 -1.000000  \n",
       "ParkingSpots   0.281160  0.032527 -0.021059  -0.025773 -0.081422  \n",
       "HasGarage      1.000000 -0.009998 -0.019169   0.013296 -0.168421  \n",
       "DOM           -0.009998  1.000000 -0.077773   0.110658  0.013302  \n",
       "SoldPrev      -0.019169 -0.077773  1.000000  -0.101700 -0.071662  \n",
       "ShortSale      0.013296  0.110658 -0.101700   1.000000  0.030976  \n",
       "Age           -0.168421  0.013302 -0.071662   0.030976  1.000000  "
      ]
     },
     "execution_count": 36,
     "metadata": {},
     "output_type": "execute_result"
    }
   ],
   "source": [
    "df.corr().drop(['ZIP', 'YearBuilt'], axis=1)"
   ]
  },
  {
   "cell_type": "markdown",
   "metadata": {},
   "source": [
    "Again, square footage seems important, as does the number of bedrooms, number of bathrooms, lot size, parking spots, age, and days on the market. These all make sense as things that would affect the price of a house, as they are almost all directly tied to the quality of the house. The one variable that is not directly tied to what the house is like is days on the market, but that makes sense as a predictor as well. If it has been on the market for a long time, it was probably overpriced to start, and they've had to drop the price to draw in prospective buyers.\n",
    "\n",
    "I think those variables all do a good job of covering what features of a house make it valuable, so if I were to look for outside information it would probably be to look at market conditions. For example, areas with higher income levels and lower unemployment will likely have more expensive houses. Macroeconomic conditions would probably also be good to look at; recessions would probably drive list prices down.\n",
    "\n",
    "I would also want to look at historical price listings, to see if there is any cyclicality in the way that house prices are listed. I would imagine certain times of year are better than others to buy houses, so having data that could show that would be valuable as well. "
   ]
  }
 ],
 "metadata": {
  "anaconda-cloud": {},
  "kernelspec": {
   "display_name": "Python 2",
   "language": "python",
   "name": "python2"
  },
  "language_info": {
   "codemirror_mode": {
    "name": "ipython",
    "version": 2
   },
   "file_extension": ".py",
   "mimetype": "text/x-python",
   "name": "python",
   "nbconvert_exporter": "python",
   "pygments_lexer": "ipython2",
   "version": "2.7.12"
  }
 },
 "nbformat": 4,
 "nbformat_minor": 1
}
